{
 "cells": [
  {
   "cell_type": "code",
   "execution_count": 6,
   "id": "e961a8cc-b0a5-4a79-86ec-744e40528ab4",
   "metadata": {},
   "outputs": [],
   "source": [
    "import sympy as sp \n",
    "x = sp.Symbol('x')"
   ]
  },
  {
   "cell_type": "code",
   "execution_count": 7,
   "id": "c2ff3909-93d8-4681-b4dd-9ef57478cac4",
   "metadata": {},
   "outputs": [
    {
     "data": {
      "text/latex": [
       "$\\displaystyle \\left(15 x^{2} + 30\\right) \\left(x^{3} + 6 x\\right)^{4}$"
      ],
      "text/plain": [
       "(15*x**2 + 30)*(x**3 + 6*x)**4"
      ]
     },
     "execution_count": 7,
     "metadata": {},
     "output_type": "execute_result"
    }
   ],
   "source": [
    "#Oppgave21 1a\n",
    "sp.diff((x**3 + 6*x)**5)"
   ]
  },
  {
   "cell_type": "code",
   "execution_count": 8,
   "id": "a92654de-8746-4e0f-b47c-d81fa926aa5f",
   "metadata": {},
   "outputs": [
    {
     "data": {
      "text/latex": [
       "$\\displaystyle \\frac{2 x}{\\sqrt{2 x^{2} + 5}}$"
      ],
      "text/plain": [
       "2*x/sqrt(2*x**2 + 5)"
      ]
     },
     "execution_count": 8,
     "metadata": {},
     "output_type": "execute_result"
    }
   ],
   "source": [
    "#1b\n",
    "sp.diff(sp.sqrt(2*x**2+5))"
   ]
  },
  {
   "cell_type": "code",
   "execution_count": 9,
   "id": "83b3a5e7-13b1-4171-b1ff-13e0e65ac4b3",
   "metadata": {},
   "outputs": [
    {
     "data": {
      "text/latex": [
       "$\\displaystyle - \\frac{128 x^{5}}{\\left(x^{2} + 3\\right)^{5}} + \\frac{64 x^{3}}{\\left(x^{2} + 3\\right)^{4}}$"
      ],
      "text/plain": [
       "-128*x**5/(x**2 + 3)**5 + 64*x**3/(x**2 + 3)**4"
      ]
     },
     "execution_count": 9,
     "metadata": {},
     "output_type": "execute_result"
    }
   ],
   "source": [
    "#1c\n",
    "sp.diff((2*x/(x**2+3))**4)"
   ]
  },
  {
   "cell_type": "code",
   "execution_count": 3,
   "id": "5e76d0bc-e18e-4f33-9761-3afcadc72bb2",
   "metadata": {},
   "outputs": [
    {
     "data": {
      "text/latex": [
       "$\\displaystyle 12 x^{3} \\left(2 x^{4} + 9\\right)^{2}$"
      ],
      "text/plain": [
       "12*x**3*(2*x**4 + 9)**2"
      ]
     },
     "execution_count": 3,
     "metadata": {},
     "output_type": "execute_result"
    }
   ],
   "source": [
    "#1d\n",
    "sp.diff((2*x**4+9)**3/2)"
   ]
  },
  {
   "cell_type": "code",
   "execution_count": 10,
   "id": "bd0e73c3-dbde-4127-9ef8-d9e02d0dc7fc",
   "metadata": {},
   "outputs": [
    {
     "data": {
      "text/latex": [
       "$\\displaystyle - \\frac{x}{\\left(x^{2} + 1\\right)^{\\frac{3}{2}}}$"
      ],
      "text/plain": [
       "-x/(x**2 + 1)**(3/2)"
      ]
     },
     "execution_count": 10,
     "metadata": {},
     "output_type": "execute_result"
    }
   ],
   "source": [
    "#1e\n",
    "sp.diff(1/(sp.sqrt(1 + x**2)))"
   ]
  },
  {
   "cell_type": "code",
   "execution_count": 12,
   "id": "a13a011b-db04-487e-987d-52e024350919",
   "metadata": {},
   "outputs": [
    {
     "data": {
      "text/latex": [
       "$\\displaystyle x^{2} \\left(6 x + 6\\right) \\left(x^{2} + 2 x\\right)^{2} + 2 x \\left(x^{2} + 2 x\\right)^{3}$"
      ],
      "text/plain": [
       "x**2*(6*x + 6)*(x**2 + 2*x)**2 + 2*x*(x**2 + 2*x)**3"
      ]
     },
     "execution_count": 12,
     "metadata": {},
     "output_type": "execute_result"
    }
   ],
   "source": [
    "#1f\n",
    "sp.diff(x**2 *(x**2 +2*x)**3)"
   ]
  },
  {
   "cell_type": "code",
   "execution_count": 13,
   "id": "39748c4e-0ec5-4086-a182-48aca0a1abec",
   "metadata": {},
   "outputs": [
    {
     "data": {
      "text/latex": [
       "$\\displaystyle \\frac{x^{2} \\left(x - 1\\right)}{\\sqrt{x^{2} - 2 x}} + 2 x \\sqrt{x^{2} - 2 x}$"
      ],
      "text/plain": [
       "x**2*(x - 1)/sqrt(x**2 - 2*x) + 2*x*sqrt(x**2 - 2*x)"
      ]
     },
     "execution_count": 13,
     "metadata": {},
     "output_type": "execute_result"
    }
   ],
   "source": [
    "#1g\n",
    "sp.diff(x**2 *(sp.sqrt(x**2 - 2*x)))"
   ]
  },
  {
   "cell_type": "code",
   "execution_count": 14,
   "id": "084d5bc8-4ed8-415b-af29-1e264ba348af",
   "metadata": {},
   "outputs": [
    {
     "data": {
      "text/latex": [
       "$\\displaystyle \\frac{x^{2} \\left(- 6 x - 3\\right)}{\\left(x^{2} + x\\right)^{4}} + \\frac{2 x}{\\left(x^{2} + x\\right)^{3}}$"
      ],
      "text/plain": [
       "x**2*(-6*x - 3)/(x**2 + x)**4 + 2*x/(x**2 + x)**3"
      ]
     },
     "execution_count": 14,
     "metadata": {},
     "output_type": "execute_result"
    }
   ],
   "source": [
    "#1h\n",
    "sp.diff(x**2/(x**2 + x)**3)"
   ]
  },
  {
   "cell_type": "code",
   "execution_count": 17,
   "id": "a11af762-4faf-4634-bd8c-1c808b1b880a",
   "metadata": {},
   "outputs": [
    {
     "data": {
      "text/latex": [
       "$\\displaystyle 9 x^{2} \\left(x^{2} + 1\\right)^{2} \\left(x^{3} + 1\\right)^{2} + 4 x \\left(x^{2} + 1\\right) \\left(x^{3} + 1\\right)^{3}$"
      ],
      "text/plain": [
       "9*x**2*(x**2 + 1)**2*(x**3 + 1)**2 + 4*x*(x**2 + 1)*(x**3 + 1)**3"
      ]
     },
     "execution_count": 17,
     "metadata": {},
     "output_type": "execute_result"
    }
   ],
   "source": [
    "#1i\n",
    "sp.diff((x**2 +1)**2 * (x**3 + 1)**3)"
   ]
  },
  {
   "cell_type": "code",
   "execution_count": 18,
   "id": "6015ff80-779a-4baf-b591-cc4716f36c6e",
   "metadata": {},
   "outputs": [
    {
     "data": {
      "text/latex": [
       "$\\displaystyle \\left(12 x + 4\\right) \\left(3 x^{2} + 2 x\\right)$"
      ],
      "text/plain": [
       "(12*x + 4)*(3*x**2 + 2*x)"
      ]
     },
     "execution_count": 18,
     "metadata": {},
     "output_type": "execute_result"
    }
   ],
   "source": [
    "#2a \n",
    "sp.diff(sp.sqrt(3*x**2 + 2*x)**4)"
   ]
  },
  {
   "cell_type": "code",
   "execution_count": 19,
   "id": "849bd90e-fadf-4ece-b504-ccfaed0812a9",
   "metadata": {},
   "outputs": [
    {
     "data": {
      "text/latex": [
       "$\\displaystyle 15 x^{2} \\left(x^{2} + 3\\right)^{4} \\left(x^{3} + 3\\right)^{4} + 8 x \\left(x^{2} + 3\\right)^{3} \\left(x^{3} + 3\\right)^{5}$"
      ],
      "text/plain": [
       "15*x**2*(x**2 + 3)**4*(x**3 + 3)**4 + 8*x*(x**2 + 3)**3*(x**3 + 3)**5"
      ]
     },
     "execution_count": 19,
     "metadata": {},
     "output_type": "execute_result"
    }
   ],
   "source": [
    "#2b\n",
    "sp.diff((x**3+3)**5 * (x**2 + 3)**4)"
   ]
  },
  {
   "cell_type": "code",
   "execution_count": 23,
   "id": "d6f067cf-3d26-4b5d-8be8-3433222dea88",
   "metadata": {},
   "outputs": [
    {
     "data": {
      "text/latex": [
       "$\\displaystyle \\frac{x^{3}}{\\sqrt{x^{2} + 1}} + 2 x \\sqrt{x^{2} + 1}$"
      ],
      "text/plain": [
       "x**3/sqrt(x**2 + 1) + 2*x*sqrt(x**2 + 1)"
      ]
     },
     "execution_count": 23,
     "metadata": {},
     "output_type": "execute_result"
    }
   ],
   "source": [
    "#2c\n",
    "sp.diff(sp.sqrt(x**2 +1 )*(x**2))"
   ]
  },
  {
   "cell_type": "code",
   "execution_count": 24,
   "id": "1fe9a284-11ed-49b4-9b3a-fe3f951955df",
   "metadata": {},
   "outputs": [
    {
     "data": {
      "text/latex": [
       "$\\displaystyle \\frac{\\left(18 x + 6\\right) \\left(3 x^{2} + 2 x\\right)^{2}}{x^{2}} - \\frac{2 \\left(3 x^{2} + 2 x\\right)^{3}}{x^{3}}$"
      ],
      "text/plain": [
       "(18*x + 6)*(3*x**2 + 2*x)**2/x**2 - 2*(3*x**2 + 2*x)**3/x**3"
      ]
     },
     "execution_count": 24,
     "metadata": {},
     "output_type": "execute_result"
    }
   ],
   "source": [
    "#2d\n",
    "sp.diff(((2*x +3*x**2)**3)/x**2)"
   ]
  },
  {
   "cell_type": "code",
   "execution_count": 26,
   "id": "6c761f45-7542-4d59-bb78-294c16415185",
   "metadata": {},
   "outputs": [
    {
     "data": {
      "text/latex": [
       "$\\displaystyle \\frac{4 x^{3}}{3 \\left(x^{4} - 5\\right)^{\\frac{2}{3}}}$"
      ],
      "text/plain": [
       "4*x**3/(3*(x**4 - 5)**(2/3))"
      ]
     },
     "execution_count": 26,
     "metadata": {},
     "output_type": "execute_result"
    }
   ],
   "source": [
    "#2e\n",
    "sp.diff(sp.cbrt(x**4 - 5))"
   ]
  },
  {
   "cell_type": "code",
   "execution_count": 27,
   "id": "f7b0eb9a-b90f-48bc-ba20-ca02c4cf0c86",
   "metadata": {},
   "outputs": [
    {
     "data": {
      "text/latex": [
       "$\\displaystyle - \\frac{2 x^{6}}{\\left(x^{4} - 1\\right)^{\\frac{3}{2}}} + \\frac{3 x^{2}}{\\sqrt{x^{4} - 1}}$"
      ],
      "text/plain": [
       "-2*x**6/(x**4 - 1)**(3/2) + 3*x**2/sqrt(x**4 - 1)"
      ]
     },
     "execution_count": 27,
     "metadata": {},
     "output_type": "execute_result"
    }
   ],
   "source": [
    "#2f\n",
    "sp.diff(x**3/sp.sqrt(x**4 - 1))"
   ]
  }
 ],
 "metadata": {
  "kernelspec": {
   "display_name": "Python 3 (ipykernel)",
   "language": "python",
   "name": "python3"
  },
  "language_info": {
   "codemirror_mode": {
    "name": "ipython",
    "version": 3
   },
   "file_extension": ".py",
   "mimetype": "text/x-python",
   "name": "python",
   "nbconvert_exporter": "python",
   "pygments_lexer": "ipython3",
   "version": "3.9.5"
  }
 },
 "nbformat": 4,
 "nbformat_minor": 5
}
