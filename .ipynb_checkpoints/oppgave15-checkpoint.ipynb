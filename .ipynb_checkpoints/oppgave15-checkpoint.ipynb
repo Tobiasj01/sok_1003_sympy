{
 "cells": [
  {
   "cell_type": "code",
   "execution_count": 28,
   "id": "4b62152f-a8b0-4ccf-860b-33d8e359a57a",
   "metadata": {},
   "outputs": [],
   "source": [
    "import sympy as sp \n",
    "from sympy.solvers import solve \n",
    "x, y=sp.symbols('x y')\n"
   ]
  },
  {
   "cell_type": "code",
   "execution_count": 5,
   "id": "4ebb1e55-8e11-4e30-9c1c-1b47e0d9df21",
   "metadata": {},
   "outputs": [
    {
     "data": {
      "text/latex": [
       "$\\displaystyle 2 x + 4 y = 6$"
      ],
      "text/plain": [
       "Eq(2*x + 4*y, 6)"
      ]
     },
     "execution_count": 5,
     "metadata": {},
     "output_type": "execute_result"
    }
   ],
   "source": [
    "#oppgave 15, 1 a1 \n",
    "eq1=sp.Eq(2*x + 4*y,6)\n",
    "eq1"
   ]
  },
  {
   "cell_type": "code",
   "execution_count": 6,
   "id": "6c6f9232-f9ee-471e-8ed5-dd401a96db48",
   "metadata": {},
   "outputs": [
    {
     "data": {
      "text/latex": [
       "$\\displaystyle - 2 x + y = 4$"
      ],
      "text/plain": [
       "Eq(-2*x + y, 4)"
      ]
     },
     "execution_count": 6,
     "metadata": {},
     "output_type": "execute_result"
    }
   ],
   "source": [
    "#oppgave 15, a2\n",
    "eq2=sp.Eq(-2*x + y,4)\n",
    "eq2"
   ]
  },
  {
   "cell_type": "code",
   "execution_count": 7,
   "id": "32c472b4-d01d-4a13-a4b8-bcba40cd71e3",
   "metadata": {},
   "outputs": [
    {
     "data": {
      "text/plain": [
       "{x: -1, y: 2}"
      ]
     },
     "execution_count": 7,
     "metadata": {},
     "output_type": "execute_result"
    }
   ],
   "source": [
    "sol=solve([eq1,eq2], [x,y])\n",
    "sol"
   ]
  },
  {
   "cell_type": "code",
   "execution_count": 18,
   "id": "6515f444-225e-4781-9361-08eaba3ae93b",
   "metadata": {},
   "outputs": [
    {
     "data": {
      "text/latex": [
       "$\\displaystyle 2 x - y = -1$"
      ],
      "text/plain": [
       "Eq(2*x - y, -1)"
      ]
     },
     "execution_count": 18,
     "metadata": {},
     "output_type": "execute_result"
    }
   ],
   "source": [
    "#oppgaver 15, b1\n",
    "eq3=sp.Eq(2*x - y, -1)\n",
    "eq3"
   ]
  },
  {
   "cell_type": "code",
   "execution_count": 16,
   "id": "7336bd40-c64b-420d-adc8-66e0c7c8b685",
   "metadata": {},
   "outputs": [
    {
     "data": {
      "text/latex": [
       "$\\displaystyle x^{2} + x - y = 1$"
      ],
      "text/plain": [
       "Eq(x**2 + x - y, 1)"
      ]
     },
     "execution_count": 16,
     "metadata": {},
     "output_type": "execute_result"
    }
   ],
   "source": [
    "#oppgaver 15, b2\n",
    "eq4=sp.Eq(x**2 + x - y,1)\n",
    "eq4"
   ]
  },
  {
   "cell_type": "code",
   "execution_count": 22,
   "id": "26cfbb48-0513-4c42-8b52-1fd9ee1299f7",
   "metadata": {},
   "outputs": [
    {
     "data": {
      "text/plain": [
       "[(-1, -1), (2, 5)]"
      ]
     },
     "execution_count": 22,
     "metadata": {},
     "output_type": "execute_result"
    }
   ],
   "source": [
    "sol=solve([eq3,eq4], [x,y])\n",
    "sol"
   ]
  },
  {
   "cell_type": "code",
   "execution_count": 32,
   "id": "2cf824b0-fa82-40b0-bee8-3452d0f00dd0",
   "metadata": {},
   "outputs": [
    {
     "data": {
      "text/plain": [
       "{x: 4, y: 0}"
      ]
     },
     "execution_count": 32,
     "metadata": {},
     "output_type": "execute_result"
    }
   ],
   "source": [
    "#oppgaver 15 2 a\n",
    "eq5=sp.Eq(3*x - 12,-6*y)\n",
    "eq6=sp.Eq(4*x - 8*y,16)\n",
    "sol=solve([eq5,eq6],[x,y])\n",
    "sol"
   ]
  },
  {
   "cell_type": "code",
   "execution_count": 33,
   "id": "6e735fda-da60-4929-acb2-581b75e39f37",
   "metadata": {},
   "outputs": [
    {
     "data": {
      "text/plain": [
       "[(-15/2, 31/4), (2, 3)]"
      ]
     },
     "execution_count": 33,
     "metadata": {},
     "output_type": "execute_result"
    }
   ],
   "source": [
    "#oppgaver 15 2 b\n",
    "eq7=sp.Eq(x**2 + 4*x - 3, 3*y)\n",
    "eq8=sp.Eq(2*y, 8 - x)\n",
    "sol=solve([eq7,eq8],[x,y])\n",
    "sol"
   ]
  },
  {
   "cell_type": "code",
   "execution_count": null,
   "id": "42c32b2b-fca7-4220-be83-952b7fd589fb",
   "metadata": {},
   "outputs": [],
   "source": []
  }
 ],
 "metadata": {
  "kernelspec": {
   "display_name": "Python 3 (ipykernel)",
   "language": "python",
   "name": "python3"
  },
  "language_info": {
   "codemirror_mode": {
    "name": "ipython",
    "version": 3
   },
   "file_extension": ".py",
   "mimetype": "text/x-python",
   "name": "python",
   "nbconvert_exporter": "python",
   "pygments_lexer": "ipython3",
   "version": "3.9.5"
  }
 },
 "nbformat": 4,
 "nbformat_minor": 5
}
