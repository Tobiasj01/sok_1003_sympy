{
 "cells": [
  {
   "cell_type": "code",
   "execution_count": 6,
   "id": "bcfd1485-45c9-4ac8-a976-30218b88c1e0",
   "metadata": {},
   "outputs": [],
   "source": [
    "import sympy as sp \n",
    "x, y=sp.symbols('x y')"
   ]
  },
  {
   "cell_type": "code",
   "execution_count": 23,
   "id": "b31b57c8-b8e9-4acd-8ab5-dfec51644f00",
   "metadata": {},
   "outputs": [
    {
     "data": {
      "text/latex": [
       "$\\displaystyle 9 x^{8}$"
      ],
      "text/plain": [
       "9*x**8"
      ]
     },
     "execution_count": 23,
     "metadata": {},
     "output_type": "execute_result"
    }
   ],
   "source": [
    "#Oppgave 20 1e\n",
    "sp.diff(x**4 * x**5)"
   ]
  },
  {
   "cell_type": "code",
   "execution_count": 24,
   "id": "aa1445fe-05f0-4b54-b1bc-0b271aa0f0c1",
   "metadata": {},
   "outputs": [
    {
     "data": {
      "text/latex": [
       "$\\displaystyle \\frac{3 \\sqrt{x}}{2}$"
      ],
      "text/plain": [
       "3*sqrt(x)/2"
      ]
     },
     "execution_count": 24,
     "metadata": {},
     "output_type": "execute_result"
    }
   ],
   "source": [
    "#1f\n",
    "sp.diff(x* sp.sqrt(x))"
   ]
  },
  {
   "cell_type": "code",
   "execution_count": 25,
   "id": "bc4fc461-ba0a-455f-83f6-7ac0cb2c1e3b",
   "metadata": {},
   "outputs": [
    {
     "data": {
      "text/latex": [
       "$\\displaystyle 6 x^{2}$"
      ],
      "text/plain": [
       "6*x**2"
      ]
     },
     "execution_count": 25,
     "metadata": {},
     "output_type": "execute_result"
    }
   ],
   "source": [
    "#1g\n",
    "sp.diff(2*(x**3))"
   ]
  },
  {
   "cell_type": "code",
   "execution_count": 7,
   "id": "98df533c-788d-41c6-8f1a-d55841a81471",
   "metadata": {},
   "outputs": [
    {
     "data": {
      "text/latex": [
       "$\\displaystyle \\frac{2}{x^{2}} - \\frac{3 \\left(x^{2} - 2\\right)}{x^{4}}$"
      ],
      "text/plain": [
       "2/x**2 - 3*(x**2 - 2)/x**4"
      ]
     },
     "execution_count": 7,
     "metadata": {},
     "output_type": "execute_result"
    }
   ],
   "source": [
    "#1h\n",
    "sp.diff((x**2 - 2)/x**3)\n"
   ]
  },
  {
   "cell_type": "code",
   "execution_count": 27,
   "id": "1a595fc0-c13e-4a3a-8215-6523d153fdf0",
   "metadata": {},
   "outputs": [
    {
     "data": {
      "text/latex": [
       "$\\displaystyle \\frac{13 x^{\\frac{11}{2}}}{2}$"
      ],
      "text/plain": [
       "13*x**(11/2)/2"
      ]
     },
     "execution_count": 27,
     "metadata": {},
     "output_type": "execute_result"
    }
   ],
   "source": [
    "#1i\n",
    "sp.diff(sp.sqrt(x)*x**6)"
   ]
  },
  {
   "cell_type": "code",
   "execution_count": 28,
   "id": "4004ff58-a59f-429c-b550-e68f4daf9fb7",
   "metadata": {},
   "outputs": [
    {
     "data": {
      "text/latex": [
       "$\\displaystyle 3 x^{2} + 1$"
      ],
      "text/plain": [
       "3*x**2 + 1"
      ]
     },
     "execution_count": 28,
     "metadata": {},
     "output_type": "execute_result"
    }
   ],
   "source": [
    "#1j\n",
    "sp.diff(x*(x**2+1))"
   ]
  },
  {
   "cell_type": "code",
   "execution_count": 30,
   "id": "c50c9acc-d220-4035-9608-5bcee0abc8c5",
   "metadata": {},
   "outputs": [
    {
     "data": {
      "text/latex": [
       "$\\displaystyle 12 x^{2} + 2 x$"
      ],
      "text/plain": [
       "12*x**2 + 2*x"
      ]
     },
     "execution_count": 30,
     "metadata": {},
     "output_type": "execute_result"
    }
   ],
   "source": [
    "#1k\n",
    "sp.diff(x**2 + 4*(x**3 - 1))"
   ]
  },
  {
   "cell_type": "code",
   "execution_count": 31,
   "id": "b1216235-9cd8-44e2-8284-29d71732391f",
   "metadata": {},
   "outputs": [
    {
     "data": {
      "text/latex": [
       "$\\displaystyle x^{2} \\left(2 x + 2\\right) + 2 x \\left(x^{2} + 2 x\\right)$"
      ],
      "text/plain": [
       "x**2*(2*x + 2) + 2*x*(x**2 + 2*x)"
      ]
     },
     "execution_count": 31,
     "metadata": {},
     "output_type": "execute_result"
    }
   ],
   "source": [
    "#1L\n",
    "sp.diff(x**2*(x**2 + 2*x))"
   ]
  },
  {
   "cell_type": "code",
   "execution_count": 32,
   "id": "09ce444c-0a40-4485-9678-9ded00194d7f",
   "metadata": {},
   "outputs": [
    {
     "data": {
      "text/latex": [
       "$\\displaystyle 2 x + 6$"
      ],
      "text/plain": [
       "2*x + 6"
      ]
     },
     "execution_count": 32,
     "metadata": {},
     "output_type": "execute_result"
    }
   ],
   "source": [
    "#1m\n",
    "sp.diff(x**2 + 4*x +2*(x-2))"
   ]
  },
  {
   "cell_type": "code",
   "execution_count": 41,
   "id": "dc19e7dc-b673-4e7d-a69f-7a7245abf0c1",
   "metadata": {},
   "outputs": [
    {
     "data": {
      "text/latex": [
       "$\\displaystyle 2 - 3 x^{2}$"
      ],
      "text/plain": [
       "2 - 3*x**2"
      ]
     },
     "execution_count": 41,
     "metadata": {},
     "output_type": "execute_result"
    }
   ],
   "source": [
    "#Oppgave 20 2a\n",
    "sp.diff(x**3 - 2*x*(x**2 - 1))"
   ]
  },
  {
   "cell_type": "code",
   "execution_count": 42,
   "id": "b982c11b-0132-494a-bd5f-5eae9eed04e5",
   "metadata": {},
   "outputs": [
    {
     "data": {
      "text/latex": [
       "$\\displaystyle 4 x$"
      ],
      "text/plain": [
       "4*x"
      ]
     },
     "execution_count": 42,
     "metadata": {},
     "output_type": "execute_result"
    }
   ],
   "source": [
    "#2b\n",
    "sp.diff((x**2+1*(x**2-1)))"
   ]
  },
  {
   "cell_type": "code",
   "execution_count": 44,
   "id": "ebec8028-be3c-480e-afff-46a217835a2f",
   "metadata": {},
   "outputs": [
    {
     "data": {
      "text/latex": [
       "$\\displaystyle 3 - 12 x^{2}$"
      ],
      "text/plain": [
       "3 - 12*x**2"
      ]
     },
     "execution_count": 44,
     "metadata": {},
     "output_type": "execute_result"
    }
   ],
   "source": [
    "#2c\n",
    "sp.diff(3*x -4*(x**3 +7))"
   ]
  }
 ],
 "metadata": {
  "kernelspec": {
   "display_name": "Python 3 (ipykernel)",
   "language": "python",
   "name": "python3"
  },
  "language_info": {
   "codemirror_mode": {
    "name": "ipython",
    "version": 3
   },
   "file_extension": ".py",
   "mimetype": "text/x-python",
   "name": "python",
   "nbconvert_exporter": "python",
   "pygments_lexer": "ipython3",
   "version": "3.9.5"
  }
 },
 "nbformat": 4,
 "nbformat_minor": 5
}
