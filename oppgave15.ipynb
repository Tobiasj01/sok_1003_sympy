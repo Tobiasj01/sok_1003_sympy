{
 "cells": [
  {
   "cell_type": "code",
   "execution_count": 2,
   "id": "4b62152f-a8b0-4ccf-860b-33d8e359a57a",
   "metadata": {},
   "outputs": [],
   "source": [
    "import sympy as sp \n",
    "from sympy.solvers import solve \n",
    "x, y=sp.symbols('x y')\n"
   ]
  },
  {
   "cell_type": "code",
   "execution_count": 5,
   "id": "4ebb1e55-8e11-4e30-9c1c-1b47e0d9df21",
   "metadata": {},
   "outputs": [
    {
     "data": {
      "text/latex": [
       "$\\displaystyle 2 x + 4 y = 6$"
      ],
      "text/plain": [
       "Eq(2*x + 4*y, 6)"
      ]
     },
     "execution_count": 5,
     "metadata": {},
     "output_type": "execute_result"
    }
   ],
   "source": [
    "#oppgave 15, a1 a\n",
    "eq1=sp.Eq(2*x + 4*y,6)\n",
    "eq1"
   ]
  },
  {
   "cell_type": "code",
   "execution_count": null,
   "id": "e81c9bcc-48ba-468d-8094-aa0f3e3701af",
   "metadata": {},
   "outputs": [],
   "source": [
    "#oppgave 15, a1 b"
   ]
  },
  {
   "cell_type": "code",
   "execution_count": 6,
   "id": "6c6f9232-f9ee-471e-8ed5-dd401a96db48",
   "metadata": {},
   "outputs": [
    {
     "data": {
      "text/latex": [
       "$\\displaystyle - 2 x + y = 4$"
      ],
      "text/plain": [
       "Eq(-2*x + y, 4)"
      ]
     },
     "execution_count": 6,
     "metadata": {},
     "output_type": "execute_result"
    }
   ],
   "source": [
    "eq2=sp.Eq(-2*x + y,4)\n",
    "eq2"
   ]
  },
  {
   "cell_type": "code",
   "execution_count": 8,
   "id": "32c472b4-d01d-4a13-a4b8-bcba40cd71e3",
   "metadata": {},
   "outputs": [
    {
     "data": {
      "text/plain": [
       "{x: -1, y: 2}"
      ]
     },
     "execution_count": 8,
     "metadata": {},
     "output_type": "execute_result"
    }
   ],
   "source": [
    "sol=solve([eq1,eq2], [x,y])\n",
    "sol"
   ]
  },
  {
   "cell_type": "code",
   "execution_count": 10,
   "id": "6515f444-225e-4781-9361-08eaba3ae93b",
   "metadata": {},
   "outputs": [
    {
     "data": {
      "text/latex": [
       "$\\displaystyle 2 x - y = -1$"
      ],
      "text/plain": [
       "Eq(2*x - y, -1)"
      ]
     },
     "execution_count": 10,
     "metadata": {},
     "output_type": "execute_result"
    }
   ],
   "source": [
    "#oppgaver 15, b1 a\n",
    "eq3=sp.Eq(2*x -y, -1)\n",
    "eq3"
   ]
  }
 ],
 "metadata": {
  "kernelspec": {
   "display_name": "Python 3 (ipykernel)",
   "language": "python",
   "name": "python3"
  },
  "language_info": {
   "codemirror_mode": {
    "name": "ipython",
    "version": 3
   },
   "file_extension": ".py",
   "mimetype": "text/x-python",
   "name": "python",
   "nbconvert_exporter": "python",
   "pygments_lexer": "ipython3",
   "version": "3.9.5"
  }
 },
 "nbformat": 4,
 "nbformat_minor": 5
}
