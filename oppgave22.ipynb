{
 "cells": [
  {
   "cell_type": "code",
   "execution_count": 4,
   "id": "831fe10a-c714-4bfa-add0-e19c8a63c2f5",
   "metadata": {},
   "outputs": [],
   "source": [
    "#oppgave 22\n",
    "import sympy as sp \n",
    "x, y = sp.symbols('x y')\n",
    "ln = sp.ln\n",
    "e = sp.exp\n"
   ]
  },
  {
   "cell_type": "code",
   "execution_count": 5,
   "id": "ca3ff5cf-7df1-4c1d-a347-5666215cc7dd",
   "metadata": {},
   "outputs": [
    {
     "data": {
      "text/latex": [
       "$\\displaystyle \\frac{1}{x}$"
      ],
      "text/plain": [
       "1/x"
      ]
     },
     "execution_count": 5,
     "metadata": {},
     "output_type": "execute_result"
    }
   ],
   "source": [
    "#1a\n",
    "sp.diff(ln(5*x))"
   ]
  },
  {
   "cell_type": "code",
   "execution_count": 6,
   "id": "e4f704aa-e068-4a20-9b5e-2a9b2201177e",
   "metadata": {},
   "outputs": [
    {
     "data": {
      "text/latex": [
       "$\\displaystyle - 2 e^{- 2 x}$"
      ],
      "text/plain": [
       "-2*exp(-2*x)"
      ]
     },
     "execution_count": 6,
     "metadata": {},
     "output_type": "execute_result"
    }
   ],
   "source": [
    "#1b\n",
    "sp.diff((e(-2*x)))"
   ]
  },
  {
   "cell_type": "code",
   "execution_count": 7,
   "id": "a47c2b25-56fa-4801-8c60-64f43b12d915",
   "metadata": {},
   "outputs": [
    {
     "data": {
      "text/latex": [
       "$\\displaystyle \\frac{1}{x}$"
      ],
      "text/plain": [
       "1/x"
      ]
     },
     "execution_count": 7,
     "metadata": {},
     "output_type": "execute_result"
    }
   ],
   "source": [
    "#1c\n",
    "sp.diff(ln((12*x))-3)"
   ]
  },
  {
   "cell_type": "code",
   "execution_count": 9,
   "id": "c737049d-10ca-4edd-9977-559763451299",
   "metadata": {},
   "outputs": [
    {
     "data": {
      "text/latex": [
       "$\\displaystyle 2^{x} \\log{\\left(2 \\right)}$"
      ],
      "text/plain": [
       "2**x*log(2)"
      ]
     },
     "execution_count": 9,
     "metadata": {},
     "output_type": "execute_result"
    }
   ],
   "source": [
    "#1d\n",
    "sp.diff(2**x)"
   ]
  },
  {
   "cell_type": "code",
   "execution_count": 10,
   "id": "15912a4e-11a1-49e8-855a-2885c12844c6",
   "metadata": {},
   "outputs": [
    {
     "data": {
      "text/latex": [
       "$\\displaystyle 3 e^{3 x + 5}$"
      ],
      "text/plain": [
       "3*exp(3*x + 5)"
      ]
     },
     "execution_count": 10,
     "metadata": {},
     "output_type": "execute_result"
    }
   ],
   "source": [
    "#1e\n",
    "sp.diff(e(3*x+5))"
   ]
  },
  {
   "cell_type": "code",
   "execution_count": 11,
   "id": "b41db2d5-74f2-477c-b9d8-84d9d211c74d",
   "metadata": {},
   "outputs": [
    {
     "data": {
      "text/latex": [
       "$\\displaystyle \\frac{5 x^{4}}{x^{5} + 1}$"
      ],
      "text/plain": [
       "5*x**4/(x**5 + 1)"
      ]
     },
     "execution_count": 11,
     "metadata": {},
     "output_type": "execute_result"
    }
   ],
   "source": [
    "#1f\n",
    "sp.diff(ln(x**5 + 1))"
   ]
  },
  {
   "cell_type": "code",
   "execution_count": 12,
   "id": "5c79bbb1-b1ef-4966-bf68-0a8a7db5ccd8",
   "metadata": {},
   "outputs": [
    {
     "data": {
      "text/latex": [
       "$\\displaystyle \\left(8 x + 8\\right) e^{4 x^{2} + 8 x}$"
      ],
      "text/plain": [
       "(8*x + 8)*exp(4*x**2 + 8*x)"
      ]
     },
     "execution_count": 12,
     "metadata": {},
     "output_type": "execute_result"
    }
   ],
   "source": [
    "#1g\n",
    "sp.diff(e(4*x**2 + 8*x))"
   ]
  },
  {
   "cell_type": "code",
   "execution_count": 13,
   "id": "1453ccbd-be13-413a-ab95-833b5ac93023",
   "metadata": {},
   "outputs": [
    {
     "data": {
      "text/latex": [
       "$\\displaystyle - \\frac{1}{x}$"
      ],
      "text/plain": [
       "-1/x"
      ]
     },
     "execution_count": 13,
     "metadata": {},
     "output_type": "execute_result"
    }
   ],
   "source": [
    "#1h\n",
    "sp.diff(ln(1/x))"
   ]
  },
  {
   "cell_type": "code",
   "execution_count": 14,
   "id": "90740e19-5eae-4233-a218-c067cd9e2500",
   "metadata": {},
   "outputs": [
    {
     "data": {
      "text/latex": [
       "$\\displaystyle - x e^{- x} + e^{- x}$"
      ],
      "text/plain": [
       "-x*exp(-x) + exp(-x)"
      ]
     },
     "execution_count": 14,
     "metadata": {},
     "output_type": "execute_result"
    }
   ],
   "source": [
    "#1i\n",
    "sp.diff(x*e(-x))"
   ]
  },
  {
   "cell_type": "code",
   "execution_count": 16,
   "id": "54380538-4bf2-47b0-a027-e326679039b0",
   "metadata": {},
   "outputs": [
    {
     "data": {
      "text/latex": [
       "$\\displaystyle 2 x \\log{\\left(2 x^{2} \\right)} + 2 x$"
      ],
      "text/plain": [
       "2*x*log(2*x**2) + 2*x"
      ]
     },
     "execution_count": 16,
     "metadata": {},
     "output_type": "execute_result"
    }
   ],
   "source": [
    "#1k\n",
    "sp.diff(x**2*ln(x**2 * 2))"
   ]
  },
  {
   "cell_type": "code",
   "execution_count": 17,
   "id": "19ed0ddc-4c02-4664-b71b-7c5d4789c119",
   "metadata": {},
   "outputs": [
    {
     "data": {
      "text/latex": [
       "$\\displaystyle 2 x^{3} e^{2 x} + 3 x^{2} e^{2 x}$"
      ],
      "text/plain": [
       "2*x**3*exp(2*x) + 3*x**2*exp(2*x)"
      ]
     },
     "execution_count": 17,
     "metadata": {},
     "output_type": "execute_result"
    }
   ],
   "source": [
    "#2a\n",
    "sp.diff(x**3 * e(2*x))"
   ]
  },
  {
   "cell_type": "code",
   "execution_count": 22,
   "id": "7a3ec1b5-8642-4958-8a5b-41b4077ac24e",
   "metadata": {},
   "outputs": [
    {
     "data": {
      "text/latex": [
       "$\\displaystyle \\frac{\\left(x^{2} + 1\\right) \\left(- \\frac{2 x \\left(x^{2} - 1\\right)}{\\left(x^{2} + 1\\right)^{2}} + \\frac{2 x}{x^{2} + 1}\\right)}{x^{2} - 1}$"
      ],
      "text/plain": [
       "(x**2 + 1)*(-2*x*(x**2 - 1)/(x**2 + 1)**2 + 2*x/(x**2 + 1))/(x**2 - 1)"
      ]
     },
     "execution_count": 22,
     "metadata": {},
     "output_type": "execute_result"
    }
   ],
   "source": [
    "#2b\n",
    "sp.diff(ln((x**2 - 1)/(x**2 +1)))"
   ]
  },
  {
   "cell_type": "code",
   "execution_count": 23,
   "id": "c927705d-652b-400c-aed0-9457b1356835",
   "metadata": {},
   "outputs": [
    {
     "data": {
      "text/latex": [
       "$\\displaystyle \\frac{2 x^{3}}{x^{2} + 2} + 2 x \\log{\\left(x^{2} + 2 \\right)}$"
      ],
      "text/plain": [
       "2*x**3/(x**2 + 2) + 2*x*log(x**2 + 2)"
      ]
     },
     "execution_count": 23,
     "metadata": {},
     "output_type": "execute_result"
    }
   ],
   "source": [
    "#2c\n",
    "sp.diff(x**2 * ln((x**2 + 2)))"
   ]
  },
  {
   "cell_type": "code",
   "execution_count": 24,
   "id": "6f3d25be-059f-410b-877b-1fb39c114c41",
   "metadata": {},
   "outputs": [
    {
     "data": {
      "text/latex": [
       "$\\displaystyle - \\frac{2 x e^{- x}}{\\left(x^{2} + 1\\right)^{2}} - \\frac{e^{- x}}{x^{2} + 1}$"
      ],
      "text/plain": [
       "-2*x*exp(-x)/(x**2 + 1)**2 - exp(-x)/(x**2 + 1)"
      ]
     },
     "execution_count": 24,
     "metadata": {},
     "output_type": "execute_result"
    }
   ],
   "source": [
    "#2d\n",
    "sp.diff(e(-x)/(x**2 +1))"
   ]
  }
 ],
 "metadata": {
  "kernelspec": {
   "display_name": "Python 3 (ipykernel)",
   "language": "python",
   "name": "python3"
  },
  "language_info": {
   "codemirror_mode": {
    "name": "ipython",
    "version": 3
   },
   "file_extension": ".py",
   "mimetype": "text/x-python",
   "name": "python",
   "nbconvert_exporter": "python",
   "pygments_lexer": "ipython3",
   "version": "3.9.5"
  }
 },
 "nbformat": 4,
 "nbformat_minor": 5
}
