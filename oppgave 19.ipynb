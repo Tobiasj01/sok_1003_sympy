{
 "cells": [
  {
   "cell_type": "code",
   "execution_count": 3,
   "id": "5e10522d-3582-4351-8424-956833cea9a5",
   "metadata": {},
   "outputs": [],
   "source": [
    "import sympy as sp \n",
    "x, y=sp.symbols('x y')"
   ]
  },
  {
   "cell_type": "code",
   "execution_count": 4,
   "id": "f4cfcab6-321e-48ac-9a7d-1ba44a40c1c6",
   "metadata": {},
   "outputs": [
    {
     "data": {
      "text/latex": [
       "$\\displaystyle 5 x^{4}$"
      ],
      "text/plain": [
       "5*x**4"
      ]
     },
     "execution_count": 4,
     "metadata": {},
     "output_type": "execute_result"
    }
   ],
   "source": [
    "#oppgaver 19 1 a\n",
    "sp.diff(x**5)"
   ]
  },
  {
   "cell_type": "code",
   "execution_count": 8,
   "id": "ff78e770-4e23-42b9-a40a-9c83c6d1b01c",
   "metadata": {},
   "outputs": [
    {
     "data": {
      "text/latex": [
       "$\\displaystyle 1$"
      ],
      "text/plain": [
       "1"
      ]
     },
     "execution_count": 8,
     "metadata": {},
     "output_type": "execute_result"
    }
   ],
   "source": [
    "#19b\n",
    "sp.diff(x+12)"
   ]
  },
  {
   "cell_type": "code",
   "execution_count": 7,
   "id": "7faf0a6b-560d-4d2b-82a5-77c32040de6b",
   "metadata": {},
   "outputs": [
    {
     "data": {
      "text/latex": [
       "$\\displaystyle 3 x^{2} + 8 x$"
      ],
      "text/plain": [
       "3*x**2 + 8*x"
      ]
     },
     "execution_count": 7,
     "metadata": {},
     "output_type": "execute_result"
    }
   ],
   "source": [
    "#19c\n",
    "sp.diff(x**3 + 4*x**2)"
   ]
  },
  {
   "cell_type": "code",
   "execution_count": 10,
   "id": "19e48a42-77f4-49bf-87cf-22891786b49d",
   "metadata": {},
   "outputs": [
    {
     "data": {
      "text/latex": [
       "$\\displaystyle 6 x^{2}$"
      ],
      "text/plain": [
       "6*x**2"
      ]
     },
     "execution_count": 10,
     "metadata": {},
     "output_type": "execute_result"
    }
   ],
   "source": [
    "#19 d\n",
    "sp.diff(2*x**3 + sp.sqrt(36))"
   ]
  },
  {
   "cell_type": "code",
   "execution_count": 11,
   "id": "2c5f27c2-f58d-4311-b6e8-ad71bba937d4",
   "metadata": {},
   "outputs": [
    {
     "data": {
      "text/latex": [
       "$\\displaystyle \\frac{1}{2 \\sqrt{x}}$"
      ],
      "text/plain": [
       "1/(2*sqrt(x))"
      ]
     },
     "execution_count": 11,
     "metadata": {},
     "output_type": "execute_result"
    }
   ],
   "source": [
    "#19e\n",
    "sp.diff(sp.sqrt(x) + 5**2)"
   ]
  },
  {
   "cell_type": "code",
   "execution_count": 12,
   "id": "7568fe8f-d08a-44ba-99b7-3f2264f4e6fd",
   "metadata": {},
   "outputs": [
    {
     "data": {
      "text/latex": [
       "$\\displaystyle 3 x^{2} - \\frac{1}{x^{2}}$"
      ],
      "text/plain": [
       "3*x**2 - 1/x**2"
      ]
     },
     "execution_count": 12,
     "metadata": {},
     "output_type": "execute_result"
    }
   ],
   "source": [
    "#19f\n",
    "sp.diff(x**3 + 1/x)"
   ]
  },
  {
   "cell_type": "code",
   "execution_count": 13,
   "id": "be575a33-d35a-422d-b275-7dc7d486345b",
   "metadata": {},
   "outputs": [
    {
     "data": {
      "text/latex": [
       "$\\displaystyle 3 x^{2} - 2 x - 4^{- x} \\log{\\left(4 \\right)}$"
      ],
      "text/plain": [
       "3*x**2 - 2*x - 4**(-x)*log(4)"
      ]
     },
     "execution_count": 13,
     "metadata": {},
     "output_type": "execute_result"
    }
   ],
   "source": [
    "#19g\n",
    "sp.diff(x**3 - x**2 + 1/4**x)"
   ]
  },
  {
   "cell_type": "code",
   "execution_count": 16,
   "id": "29915abd-0ae0-4501-87ee-f9661893eb9e",
   "metadata": {},
   "outputs": [
    {
     "data": {
      "text/latex": [
       "$\\displaystyle 36 x^{5} - \\frac{1}{x^{2}}$"
      ],
      "text/plain": [
       "36*x**5 - 1/x**2"
      ]
     },
     "execution_count": 16,
     "metadata": {},
     "output_type": "execute_result"
    }
   ],
   "source": [
    "#19 2 a\n",
    "sp.diff(1/x + 6*x**6)"
   ]
  },
  {
   "cell_type": "code",
   "execution_count": 18,
   "id": "b200d68c-85e7-4a50-8f5a-33a6cdcbdde2",
   "metadata": {},
   "outputs": [
    {
     "data": {
      "text/latex": [
       "$\\displaystyle 1.5 x^{2} - 1$"
      ],
      "text/plain": [
       "1.5*x**2 - 1"
      ]
     },
     "execution_count": 18,
     "metadata": {},
     "output_type": "execute_result"
    }
   ],
   "source": [
    "#19 2 b\n",
    "sp.diff(-x + 1/2*x**3)"
   ]
  },
  {
   "cell_type": "code",
   "execution_count": 19,
   "id": "022913b7-7af0-4ed3-85d0-6d80b9193f1a",
   "metadata": {},
   "outputs": [
    {
     "data": {
      "text/latex": [
       "$\\displaystyle 2 x + 2$"
      ],
      "text/plain": [
       "2*x + 2"
      ]
     },
     "execution_count": 19,
     "metadata": {},
     "output_type": "execute_result"
    }
   ],
   "source": [
    "#19 2 c\n",
    "sp.diff(x**2 + 2*x -3)"
   ]
  }
 ],
 "metadata": {
  "kernelspec": {
   "display_name": "Python 3 (ipykernel)",
   "language": "python",
   "name": "python3"
  },
  "language_info": {
   "codemirror_mode": {
    "name": "ipython",
    "version": 3
   },
   "file_extension": ".py",
   "mimetype": "text/x-python",
   "name": "python",
   "nbconvert_exporter": "python",
   "pygments_lexer": "ipython3",
   "version": "3.9.5"
  }
 },
 "nbformat": 4,
 "nbformat_minor": 5
}
